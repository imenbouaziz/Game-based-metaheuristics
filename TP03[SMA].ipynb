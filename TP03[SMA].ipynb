{
 "cells": [
  {
   "cell_type": "markdown",
   "id": "5efc1101",
   "metadata": {},
   "source": [
    "<div style=\"float: right; margin-left: 20px;\">\n",
    "  <img src=\"logo.png\" alt=\"Logo\" width=\"105\" height=\"105\"/>\n",
    "</div>\n",
    "\n",
    "Democratic and Popular Republic of Algeria \\\n",
    "Ministry of Higher Education and Scientific Research \\\n",
    "National Higher School of Computer Science - May 9 1945 - Sidi Bel Abbes \\\n",
    "### Multi-Agent Systems\n",
    "### TP 03: Game-Based Metaheuristics \n",
    "___\n",
    "#### Table de Matiéres \n",
    "1. [Data Preprocessing](#data-preprocessing)\n",
    "2. [Machine Learning Classification](#ml)\n",
    "3. [Classifier ojective function](#classifier)\n",
    "4. [Tug of War function](#tow)\n",
    "5. [Hide Object Game optimizer](#hogo)\n",
    "6. [League Championship algorithm](#lca)\n",
    "7. [Most Valuable Player algorithm](#mvpa)\n",
    "8. [Testing](#test)\n",
    "9. [Evaluation](#eval)\n",
    "10. [Ludo Game](#ludo)\n",
    "\n",
    "For more information about the dataset, click [here](https://www.kaggle.com/datasets/emineyetm/fake-news-detection-datasets/data).\n",
    "\n",
    "By Imene Bouaziz G01 ISI\n",
    "\n",
    "<hr style=\"border: 0.3px solid black;\"/>"
   ]
  },
  {
   "cell_type": "markdown",
   "id": "c264f89c",
   "metadata": {},
   "source": [
    "## Importing Libraries"
   ]
  },
  {
   "cell_type": "code",
   "execution_count": 2,
   "id": "bb687680",
   "metadata": {},
   "outputs": [],
   "source": [
    "import numpy as np \n",
    "import pandas as pd\n",
    "import os\n",
    "for dirname, _, filenames in os.walk('/kaggle/input'):\n",
    "    for filename in filenames:\n",
    "        print(os.path.join(dirname, filename))\n",
    "        \n",
    "from sklearn.feature_extraction.text import TfidfVectorizer\n",
    "from sklearn.model_selection import train_test_split\n",
    "from sklearn.linear_model import LogisticRegression\n",
    "from sklearn.metrics import accuracy_score\n",
    "from sklearn.metrics import precision_score, recall_score, f1_score\n",
    "from sklearn.metrics import confusion_matrix\n",
    "from sklearn import svm\n",
    "from sklearn.metrics import classification_report"
   ]
  },
  {
   "cell_type": "markdown",
   "id": "fe10beb1",
   "metadata": {},
   "source": [
    "## <span style=\"color:blue;\">1. Data Preprocessing</span> <a class=\"anchor\" id=\"data-preprocessing\"></a>"
   ]
  },
  {
   "cell_type": "markdown",
   "id": "b768b991",
   "metadata": {},
   "source": [
    "### 1.1. Loading the dataset"
   ]
  },
  {
   "cell_type": "code",
   "execution_count": 3,
   "id": "f1d83cf7",
   "metadata": {},
   "outputs": [
    {
     "name": "stdout",
     "output_type": "stream",
     "text": [
      "                                               title  \\\n",
      "0  As U.S. budget fight looms, Republicans flip t...   \n",
      "1  U.S. military to accept transgender recruits o...   \n",
      "2  Senior U.S. Republican senator: 'Let Mr. Muell...   \n",
      "3  FBI Russia probe helped by Australian diplomat...   \n",
      "4  Trump wants Postal Service to charge 'much mor...   \n",
      "5  White House, Congress prepare for talks on spe...   \n",
      "6  Trump says Russia probe will be fair, but time...   \n",
      "7  Factbox: Trump on Twitter (Dec 29) - Approval ...   \n",
      "8         Trump on Twitter (Dec 28) - Global Warming   \n",
      "9  Alabama official to certify Senator-elect Jone...   \n",
      "\n",
      "                                                text       subject  \\\n",
      "0  WASHINGTON (Reuters) - The head of a conservat...  politicsNews   \n",
      "1  WASHINGTON (Reuters) - Transgender people will...  politicsNews   \n",
      "2  WASHINGTON (Reuters) - The special counsel inv...  politicsNews   \n",
      "3  WASHINGTON (Reuters) - Trump campaign adviser ...  politicsNews   \n",
      "4  SEATTLE/WASHINGTON (Reuters) - President Donal...  politicsNews   \n",
      "5  WEST PALM BEACH, Fla./WASHINGTON (Reuters) - T...  politicsNews   \n",
      "6  WEST PALM BEACH, Fla (Reuters) - President Don...  politicsNews   \n",
      "7  The following statements were posted to the ve...  politicsNews   \n",
      "8  The following statements were posted to the ve...  politicsNews   \n",
      "9  WASHINGTON (Reuters) - Alabama Secretary of St...  politicsNews   \n",
      "\n",
      "                 date  \n",
      "0  December 31, 2017   \n",
      "1  December 29, 2017   \n",
      "2  December 31, 2017   \n",
      "3  December 30, 2017   \n",
      "4  December 29, 2017   \n",
      "5  December 29, 2017   \n",
      "6  December 29, 2017   \n",
      "7  December 29, 2017   \n",
      "8  December 29, 2017   \n",
      "9  December 28, 2017   \n"
     ]
    },
    {
     "data": {
      "text/html": [
       "<div>\n",
       "<style scoped>\n",
       "    .dataframe tbody tr th:only-of-type {\n",
       "        vertical-align: middle;\n",
       "    }\n",
       "\n",
       "    .dataframe tbody tr th {\n",
       "        vertical-align: top;\n",
       "    }\n",
       "\n",
       "    .dataframe thead th {\n",
       "        text-align: right;\n",
       "    }\n",
       "</style>\n",
       "<table border=\"1\" class=\"dataframe\">\n",
       "  <thead>\n",
       "    <tr style=\"text-align: right;\">\n",
       "      <th></th>\n",
       "      <th>title</th>\n",
       "      <th>text</th>\n",
       "      <th>subject</th>\n",
       "      <th>date</th>\n",
       "    </tr>\n",
       "  </thead>\n",
       "  <tbody>\n",
       "    <tr>\n",
       "      <th>0</th>\n",
       "      <td>Donald Trump Sends Out Embarrassing New Year’...</td>\n",
       "      <td>Donald Trump just couldn t wish all Americans ...</td>\n",
       "      <td>News</td>\n",
       "      <td>December 31, 2017</td>\n",
       "    </tr>\n",
       "    <tr>\n",
       "      <th>1</th>\n",
       "      <td>Drunk Bragging Trump Staffer Started Russian ...</td>\n",
       "      <td>House Intelligence Committee Chairman Devin Nu...</td>\n",
       "      <td>News</td>\n",
       "      <td>December 31, 2017</td>\n",
       "    </tr>\n",
       "    <tr>\n",
       "      <th>2</th>\n",
       "      <td>Sheriff David Clarke Becomes An Internet Joke...</td>\n",
       "      <td>On Friday, it was revealed that former Milwauk...</td>\n",
       "      <td>News</td>\n",
       "      <td>December 30, 2017</td>\n",
       "    </tr>\n",
       "    <tr>\n",
       "      <th>3</th>\n",
       "      <td>Trump Is So Obsessed He Even Has Obama’s Name...</td>\n",
       "      <td>On Christmas day, Donald Trump announced that ...</td>\n",
       "      <td>News</td>\n",
       "      <td>December 29, 2017</td>\n",
       "    </tr>\n",
       "  </tbody>\n",
       "</table>\n",
       "</div>"
      ],
      "text/plain": [
       "                                               title  \\\n",
       "0   Donald Trump Sends Out Embarrassing New Year’...   \n",
       "1   Drunk Bragging Trump Staffer Started Russian ...   \n",
       "2   Sheriff David Clarke Becomes An Internet Joke...   \n",
       "3   Trump Is So Obsessed He Even Has Obama’s Name...   \n",
       "\n",
       "                                                text subject  \\\n",
       "0  Donald Trump just couldn t wish all Americans ...    News   \n",
       "1  House Intelligence Committee Chairman Devin Nu...    News   \n",
       "2  On Friday, it was revealed that former Milwauk...    News   \n",
       "3  On Christmas day, Donald Trump announced that ...    News   \n",
       "\n",
       "                date  \n",
       "0  December 31, 2017  \n",
       "1  December 31, 2017  \n",
       "2  December 30, 2017  \n",
       "3  December 29, 2017  "
      ]
     },
     "execution_count": 3,
     "metadata": {},
     "output_type": "execute_result"
    }
   ],
   "source": [
    "true_data=pd.read_csv('./News _dataset/True.csv')\n",
    "fake_data=pd.read_csv('./News _dataset/Fake.csv')\n",
    "\n",
    "print(true_data[0:10])\n",
    "fake_data[0:4]"
   ]
  },
  {
   "cell_type": "markdown",
   "id": "9754ad49",
   "metadata": {},
   "source": [
    "### 1.2. Dimention"
   ]
  },
  {
   "cell_type": "code",
   "execution_count": 3,
   "id": "bb4fd070",
   "metadata": {},
   "outputs": [
    {
     "data": {
      "text/plain": [
       "21417"
      ]
     },
     "execution_count": 3,
     "metadata": {},
     "output_type": "execute_result"
    }
   ],
   "source": [
    "len(true_data)"
   ]
  },
  {
   "cell_type": "code",
   "execution_count": 4,
   "id": "4dc3b76c",
   "metadata": {},
   "outputs": [
    {
     "data": {
      "text/plain": [
       "23481"
      ]
     },
     "execution_count": 4,
     "metadata": {},
     "output_type": "execute_result"
    }
   ],
   "source": [
    "len(fake_data)"
   ]
  },
  {
   "cell_type": "markdown",
   "id": "51eae877",
   "metadata": {},
   "source": [
    "### 1.3. Labet attribution"
   ]
  },
  {
   "cell_type": "code",
   "execution_count": 5,
   "id": "e8940b23",
   "metadata": {},
   "outputs": [
    {
     "name": "stdout",
     "output_type": "stream",
     "text": [
      "                                               title  \\\n",
      "0  As U.S. budget fight looms, Republicans flip t...   \n",
      "1  U.S. military to accept transgender recruits o...   \n",
      "2  Senior U.S. Republican senator: 'Let Mr. Muell...   \n",
      "3  FBI Russia probe helped by Australian diplomat...   \n",
      "4  Trump wants Postal Service to charge 'much mor...   \n",
      "\n",
      "                                                text       subject  \\\n",
      "0  WASHINGTON (Reuters) - The head of a conservat...  politicsNews   \n",
      "1  WASHINGTON (Reuters) - Transgender people will...  politicsNews   \n",
      "2  WASHINGTON (Reuters) - The special counsel inv...  politicsNews   \n",
      "3  WASHINGTON (Reuters) - Trump campaign adviser ...  politicsNews   \n",
      "4  SEATTLE/WASHINGTON (Reuters) - President Donal...  politicsNews   \n",
      "\n",
      "                 date  label  \n",
      "0  December 31, 2017       0  \n",
      "1  December 29, 2017       0  \n",
      "2  December 31, 2017       0  \n",
      "3  December 30, 2017       0  \n",
      "4  December 29, 2017       0  \n"
     ]
    },
    {
     "data": {
      "text/html": [
       "<div>\n",
       "<style scoped>\n",
       "    .dataframe tbody tr th:only-of-type {\n",
       "        vertical-align: middle;\n",
       "    }\n",
       "\n",
       "    .dataframe tbody tr th {\n",
       "        vertical-align: top;\n",
       "    }\n",
       "\n",
       "    .dataframe thead th {\n",
       "        text-align: right;\n",
       "    }\n",
       "</style>\n",
       "<table border=\"1\" class=\"dataframe\">\n",
       "  <thead>\n",
       "    <tr style=\"text-align: right;\">\n",
       "      <th></th>\n",
       "      <th>title</th>\n",
       "      <th>text</th>\n",
       "      <th>subject</th>\n",
       "      <th>date</th>\n",
       "      <th>label</th>\n",
       "    </tr>\n",
       "  </thead>\n",
       "  <tbody>\n",
       "    <tr>\n",
       "      <th>0</th>\n",
       "      <td>Donald Trump Sends Out Embarrassing New Year’...</td>\n",
       "      <td>Donald Trump just couldn t wish all Americans ...</td>\n",
       "      <td>News</td>\n",
       "      <td>December 31, 2017</td>\n",
       "      <td>1</td>\n",
       "    </tr>\n",
       "    <tr>\n",
       "      <th>1</th>\n",
       "      <td>Drunk Bragging Trump Staffer Started Russian ...</td>\n",
       "      <td>House Intelligence Committee Chairman Devin Nu...</td>\n",
       "      <td>News</td>\n",
       "      <td>December 31, 2017</td>\n",
       "      <td>1</td>\n",
       "    </tr>\n",
       "    <tr>\n",
       "      <th>2</th>\n",
       "      <td>Sheriff David Clarke Becomes An Internet Joke...</td>\n",
       "      <td>On Friday, it was revealed that former Milwauk...</td>\n",
       "      <td>News</td>\n",
       "      <td>December 30, 2017</td>\n",
       "      <td>1</td>\n",
       "    </tr>\n",
       "    <tr>\n",
       "      <th>3</th>\n",
       "      <td>Trump Is So Obsessed He Even Has Obama’s Name...</td>\n",
       "      <td>On Christmas day, Donald Trump announced that ...</td>\n",
       "      <td>News</td>\n",
       "      <td>December 29, 2017</td>\n",
       "      <td>1</td>\n",
       "    </tr>\n",
       "    <tr>\n",
       "      <th>4</th>\n",
       "      <td>Pope Francis Just Called Out Donald Trump Dur...</td>\n",
       "      <td>Pope Francis used his annual Christmas Day mes...</td>\n",
       "      <td>News</td>\n",
       "      <td>December 25, 2017</td>\n",
       "      <td>1</td>\n",
       "    </tr>\n",
       "  </tbody>\n",
       "</table>\n",
       "</div>"
      ],
      "text/plain": [
       "                                               title  \\\n",
       "0   Donald Trump Sends Out Embarrassing New Year’...   \n",
       "1   Drunk Bragging Trump Staffer Started Russian ...   \n",
       "2   Sheriff David Clarke Becomes An Internet Joke...   \n",
       "3   Trump Is So Obsessed He Even Has Obama’s Name...   \n",
       "4   Pope Francis Just Called Out Donald Trump Dur...   \n",
       "\n",
       "                                                text subject  \\\n",
       "0  Donald Trump just couldn t wish all Americans ...    News   \n",
       "1  House Intelligence Committee Chairman Devin Nu...    News   \n",
       "2  On Friday, it was revealed that former Milwauk...    News   \n",
       "3  On Christmas day, Donald Trump announced that ...    News   \n",
       "4  Pope Francis used his annual Christmas Day mes...    News   \n",
       "\n",
       "                date  label  \n",
       "0  December 31, 2017      1  \n",
       "1  December 31, 2017      1  \n",
       "2  December 30, 2017      1  \n",
       "3  December 29, 2017      1  \n",
       "4  December 25, 2017      1  "
      ]
     },
     "execution_count": 5,
     "metadata": {},
     "output_type": "execute_result"
    }
   ],
   "source": [
    "fake_data['label'] = 1\n",
    "true_data['label']=0\n",
    "print(true_data.head())\n",
    "fake_data.head()"
   ]
  },
  {
   "cell_type": "markdown",
   "id": "2f58a857",
   "metadata": {},
   "source": [
    "### 1.4.Concatination and shuffling "
   ]
  },
  {
   "cell_type": "code",
   "execution_count": 6,
   "id": "7dd0a92c",
   "metadata": {},
   "outputs": [
    {
     "name": "stdout",
     "output_type": "stream",
     "text": [
      "Index(['title', 'text', 'subject', 'date', 'label'], dtype='object')\n"
     ]
    }
   ],
   "source": [
    "all_data=pd.concat([fake_data, true_data])\n",
    "random_permutation = np.random.permutation(len(all_data))\n",
    "all_data= all_data.iloc[random_permutation]\n",
    "print(all_data.columns)\n",
    "#all_data.head()"
   ]
  },
  {
   "cell_type": "markdown",
   "id": "5a8a486a",
   "metadata": {},
   "source": [
    "### 1.5. Feature selection"
   ]
  },
  {
   "cell_type": "code",
   "execution_count": 7,
   "id": "5802ed42",
   "metadata": {},
   "outputs": [],
   "source": [
    "filterd_data=all_data.loc[:, ['title', 'text', \"subject\", 'label']]\n",
    "#filterd_data.head()"
   ]
  },
  {
   "cell_type": "markdown",
   "id": "cde7c5e8",
   "metadata": {},
   "source": [
    "### 1.6. Missing values"
   ]
  },
  {
   "cell_type": "code",
   "execution_count": 8,
   "id": "d87d27a4",
   "metadata": {},
   "outputs": [
    {
     "data": {
      "text/plain": [
       "title      0\n",
       "text       0\n",
       "subject    0\n",
       "label      0\n",
       "dtype: int64"
      ]
     },
     "execution_count": 8,
     "metadata": {},
     "output_type": "execute_result"
    }
   ],
   "source": [
    "filterd_data.isnull().sum()"
   ]
  },
  {
   "cell_type": "markdown",
   "id": "d4517a92",
   "metadata": {},
   "source": [
    "### 1.7. Feature engineering"
   ]
  },
  {
   "cell_type": "code",
   "execution_count": 9,
   "id": "67dfe8bb",
   "metadata": {},
   "outputs": [],
   "source": [
    "filterd_data['training_feature']=filterd_data['title']+' '+filterd_data['text']+' '+filterd_data['subject']\n",
    "#filterd_data.head()"
   ]
  },
  {
   "cell_type": "markdown",
   "id": "3f3fd4aa",
   "metadata": {},
   "source": [
    "### 1.8. Creating data subsets"
   ]
  },
  {
   "cell_type": "code",
   "execution_count": 10,
   "id": "1ca44483",
   "metadata": {},
   "outputs": [],
   "source": [
    "X= filterd_data['training_feature'].values\n",
    "y = filterd_data['label']"
   ]
  },
  {
   "cell_type": "code",
   "execution_count": 11,
   "id": "ba739a92",
   "metadata": {},
   "outputs": [],
   "source": [
    "l_X=filterd_data['training_feature'].values[0:1000]\n",
    "l_Y= filterd_data['label'].values[0:1000]"
   ]
  },
  {
   "cell_type": "code",
   "execution_count": 12,
   "id": "2e885d5b",
   "metadata": {},
   "outputs": [
    {
     "name": "stdout",
     "output_type": "stream",
     "text": [
      "(1000,)\n",
      "(1000,)\n"
     ]
    },
    {
     "data": {
      "text/plain": [
       "numpy.ndarray"
      ]
     },
     "execution_count": 12,
     "metadata": {},
     "output_type": "execute_result"
    }
   ],
   "source": [
    "print(l_X.shape)\n",
    "print(l_Y.shape)\n",
    "type (l_X)"
   ]
  },
  {
   "cell_type": "markdown",
   "id": "fa768f9d",
   "metadata": {},
   "source": [
    "### 1.9. Converting to matrix  "
   ]
  },
  {
   "cell_type": "code",
   "execution_count": 13,
   "id": "ee372742",
   "metadata": {},
   "outputs": [],
   "source": [
    "vectorizer= TfidfVectorizer()\n",
    "X=vectorizer.fit_transform(X)"
   ]
  },
  {
   "cell_type": "code",
   "execution_count": 14,
   "id": "6a878c58",
   "metadata": {},
   "outputs": [],
   "source": [
    "l_vectorizer= TfidfVectorizer()\n",
    "l_X=l_vectorizer.fit_transform(l_X)"
   ]
  },
  {
   "cell_type": "code",
   "execution_count": 15,
   "id": "db059d31",
   "metadata": {},
   "outputs": [
    {
     "name": "stdout",
     "output_type": "stream",
     "text": [
      "<class 'scipy.sparse._csr.csr_matrix'>\n",
      "(44898, 122516)\n",
      "<class 'scipy.sparse._csr.csr_matrix'>\n",
      "(1000, 22489)\n"
     ]
    }
   ],
   "source": [
    "print(type(X))\n",
    "print(X.shape)\n",
    "print(type(l_X))\n",
    "print(l_X.shape)"
   ]
  },
  {
   "cell_type": "markdown",
   "id": "0eef0fbf",
   "metadata": {},
   "source": [
    "### 1.10. Splitting the dataset"
   ]
  },
  {
   "cell_type": "code",
   "execution_count": 16,
   "id": "a95d3a63",
   "metadata": {},
   "outputs": [],
   "source": [
    "X_train, X_test, Y_train, Y_test = train_test_split(X, y, test_size = 0.2, stratify=y, random_state=42)"
   ]
  },
  {
   "cell_type": "code",
   "execution_count": 17,
   "id": "3e85c6d1",
   "metadata": {},
   "outputs": [],
   "source": [
    "l_X_train, l_X_test, l_Y_train, l_Y_test = train_test_split(l_X, l_Y, test_size = 0.2, random_state=42)"
   ]
  },
  {
   "cell_type": "code",
   "execution_count": 18,
   "id": "b68b5662",
   "metadata": {},
   "outputs": [
    {
     "data": {
      "text/plain": [
       "(35918, 122516)"
      ]
     },
     "execution_count": 18,
     "metadata": {},
     "output_type": "execute_result"
    }
   ],
   "source": [
    "X_train.shape"
   ]
  },
  {
   "cell_type": "markdown",
   "id": "53acb6e0",
   "metadata": {},
   "source": [
    "## <span style=\"color:blue;\">2. Machine learning classification </span> <a class=\"anchor\" id=\"ml\"></a>"
   ]
  },
  {
   "cell_type": "code",
   "execution_count": 19,
   "id": "0093d5cb",
   "metadata": {},
   "outputs": [],
   "source": [
    "#Create a svm Classifier\n",
    "model = svm.SVC(kernel='linear') # Linear Kernel\n",
    "clf_poly=clf = svm.SVC(kernel='poly') # Polynomial kernel"
   ]
  },
  {
   "cell_type": "code",
   "execution_count": 20,
   "id": "6c657a0e",
   "metadata": {},
   "outputs": [
    {
     "name": "stdout",
     "output_type": "stream",
     "text": [
      "(35918, 122516)\n"
     ]
    }
   ],
   "source": [
    "print(X_train.shape)\n",
    "# X_train.iloc[0:1000].shape"
   ]
  },
  {
   "cell_type": "code",
   "execution_count": 21,
   "id": "70cdb6f1",
   "metadata": {},
   "outputs": [
    {
     "data": {
      "text/html": [
       "<style>#sk-container-id-1 {color: black;background-color: white;}#sk-container-id-1 pre{padding: 0;}#sk-container-id-1 div.sk-toggleable {background-color: white;}#sk-container-id-1 label.sk-toggleable__label {cursor: pointer;display: block;width: 100%;margin-bottom: 0;padding: 0.3em;box-sizing: border-box;text-align: center;}#sk-container-id-1 label.sk-toggleable__label-arrow:before {content: \"▸\";float: left;margin-right: 0.25em;color: #696969;}#sk-container-id-1 label.sk-toggleable__label-arrow:hover:before {color: black;}#sk-container-id-1 div.sk-estimator:hover label.sk-toggleable__label-arrow:before {color: black;}#sk-container-id-1 div.sk-toggleable__content {max-height: 0;max-width: 0;overflow: hidden;text-align: left;background-color: #f0f8ff;}#sk-container-id-1 div.sk-toggleable__content pre {margin: 0.2em;color: black;border-radius: 0.25em;background-color: #f0f8ff;}#sk-container-id-1 input.sk-toggleable__control:checked~div.sk-toggleable__content {max-height: 200px;max-width: 100%;overflow: auto;}#sk-container-id-1 input.sk-toggleable__control:checked~label.sk-toggleable__label-arrow:before {content: \"▾\";}#sk-container-id-1 div.sk-estimator input.sk-toggleable__control:checked~label.sk-toggleable__label {background-color: #d4ebff;}#sk-container-id-1 div.sk-label input.sk-toggleable__control:checked~label.sk-toggleable__label {background-color: #d4ebff;}#sk-container-id-1 input.sk-hidden--visually {border: 0;clip: rect(1px 1px 1px 1px);clip: rect(1px, 1px, 1px, 1px);height: 1px;margin: -1px;overflow: hidden;padding: 0;position: absolute;width: 1px;}#sk-container-id-1 div.sk-estimator {font-family: monospace;background-color: #f0f8ff;border: 1px dotted black;border-radius: 0.25em;box-sizing: border-box;margin-bottom: 0.5em;}#sk-container-id-1 div.sk-estimator:hover {background-color: #d4ebff;}#sk-container-id-1 div.sk-parallel-item::after {content: \"\";width: 100%;border-bottom: 1px solid gray;flex-grow: 1;}#sk-container-id-1 div.sk-label:hover label.sk-toggleable__label {background-color: #d4ebff;}#sk-container-id-1 div.sk-serial::before {content: \"\";position: absolute;border-left: 1px solid gray;box-sizing: border-box;top: 0;bottom: 0;left: 50%;z-index: 0;}#sk-container-id-1 div.sk-serial {display: flex;flex-direction: column;align-items: center;background-color: white;padding-right: 0.2em;padding-left: 0.2em;position: relative;}#sk-container-id-1 div.sk-item {position: relative;z-index: 1;}#sk-container-id-1 div.sk-parallel {display: flex;align-items: stretch;justify-content: center;background-color: white;position: relative;}#sk-container-id-1 div.sk-item::before, #sk-container-id-1 div.sk-parallel-item::before {content: \"\";position: absolute;border-left: 1px solid gray;box-sizing: border-box;top: 0;bottom: 0;left: 50%;z-index: -1;}#sk-container-id-1 div.sk-parallel-item {display: flex;flex-direction: column;z-index: 1;position: relative;background-color: white;}#sk-container-id-1 div.sk-parallel-item:first-child::after {align-self: flex-end;width: 50%;}#sk-container-id-1 div.sk-parallel-item:last-child::after {align-self: flex-start;width: 50%;}#sk-container-id-1 div.sk-parallel-item:only-child::after {width: 0;}#sk-container-id-1 div.sk-dashed-wrapped {border: 1px dashed gray;margin: 0 0.4em 0.5em 0.4em;box-sizing: border-box;padding-bottom: 0.4em;background-color: white;}#sk-container-id-1 div.sk-label label {font-family: monospace;font-weight: bold;display: inline-block;line-height: 1.2em;}#sk-container-id-1 div.sk-label-container {text-align: center;}#sk-container-id-1 div.sk-container {/* jupyter's `normalize.less` sets `[hidden] { display: none; }` but bootstrap.min.css set `[hidden] { display: none !important; }` so we also need the `!important` here to be able to override the default hidden behavior on the sphinx rendered scikit-learn.org. See: https://github.com/scikit-learn/scikit-learn/issues/21755 */display: inline-block !important;position: relative;}#sk-container-id-1 div.sk-text-repr-fallback {display: none;}</style><div id=\"sk-container-id-1\" class=\"sk-top-container\"><div class=\"sk-text-repr-fallback\"><pre>SVC(kernel=&#x27;linear&#x27;)</pre><b>In a Jupyter environment, please rerun this cell to show the HTML representation or trust the notebook. <br />On GitHub, the HTML representation is unable to render, please try loading this page with nbviewer.org.</b></div><div class=\"sk-container\" hidden><div class=\"sk-item\"><div class=\"sk-estimator sk-toggleable\"><input class=\"sk-toggleable__control sk-hidden--visually\" id=\"sk-estimator-id-1\" type=\"checkbox\" checked><label for=\"sk-estimator-id-1\" class=\"sk-toggleable__label sk-toggleable__label-arrow\">SVC</label><div class=\"sk-toggleable__content\"><pre>SVC(kernel=&#x27;linear&#x27;)</pre></div></div></div></div></div>"
      ],
      "text/plain": [
       "SVC(kernel='linear')"
      ]
     },
     "execution_count": 21,
     "metadata": {},
     "output_type": "execute_result"
    }
   ],
   "source": [
    "#Train the model using the training sets\n",
    "model.fit(l_X_train, l_Y_train)\n",
    "# clf_poly.fit(X_train,Y_train)"
   ]
  },
  {
   "cell_type": "code",
   "execution_count": 22,
   "id": "66d0760b",
   "metadata": {},
   "outputs": [],
   "source": [
    "#Predict the response for test dataset\n",
    "y_pred = model.predict(l_X_test)"
   ]
  },
  {
   "cell_type": "code",
   "execution_count": 25,
   "id": "dadca124",
   "metadata": {},
   "outputs": [
    {
     "name": "stdout",
     "output_type": "stream",
     "text": [
      "0.975\n",
      "0.9896907216494846\n",
      "0.96\n",
      "0.9746192893401014\n",
      "[[99  1]\n",
      " [ 4 96]]\n",
      "              precision    recall  f1-score   support\n",
      "\n",
      "           0       0.96      0.99      0.98       100\n",
      "           1       0.99      0.96      0.97       100\n",
      "\n",
      "    accuracy                           0.97       200\n",
      "   macro avg       0.98      0.97      0.97       200\n",
      "weighted avg       0.98      0.97      0.97       200\n",
      "\n"
     ]
    }
   ],
   "source": [
    "from sklearn.metrics import precision_score, recall_score, f1_score, accuracy_score\n",
    "\n",
    "print(accuracy_score(y_pred, l_Y_test))\n",
    "print (precision_score(l_Y_test, y_pred,))\n",
    "print (recall_score(l_Y_test, y_pred,))\n",
    "print(f1_score(l_Y_test, y_pred,))\n",
    "print(confusion_matrix(l_Y_test, y_pred,))\n",
    "print(classification_report(l_Y_test, y_pred))"
   ]
  },
  {
   "cell_type": "markdown",
   "id": "5dd46e3c",
   "metadata": {},
   "source": [
    "## <span style=\"color:blue;\">3. Classifier ojective function</span> <a class=\"anchor\" id=\"classifier\"></a>"
   ]
  },
  {
   "cell_type": "code",
   "execution_count": 126,
   "id": "e888d465",
   "metadata": {},
   "outputs": [],
   "source": [
    "from sklearn.svm import SVC\n",
    "# Define the objective function to be optimized\n",
    "def objective_function(x):\n",
    "    #apply this one to execute mvpa and comment it to use the others\n",
    "    svm = SVC(C=x[\"C\"], gamma=x[\"gamma\"], kernel='rbf')\n",
    "    #apply this one to execute two and hogo and comment it to use mvpa\n",
    "    #svm = SVC(C=x[0], gamma=x[1], kernel='rbf')\n",
    "    svm.fit(l_X_train, l_Y_train)\n",
    "    y_pred = svm.predict(l_X_test)\n",
    "    # Assuming binary classification, you can use F1 score as the objective function\n",
    "    accuracy = accuracy_score(l_Y_test, y_pred)\n",
    "   # f1 = f1_score(l_Y_test, y_pred)\n",
    "    # Return the negative F1 score (to be minimized by TWO)\n",
    "    return accuracy"
   ]
  },
  {
   "cell_type": "markdown",
   "id": "1e1b9034",
   "metadata": {},
   "source": [
    "## <span style=\"color:blue;\">4. Tug of War function</span> <a class=\"anchor\" id=\"tow\"></a>"
   ]
  },
  {
   "cell_type": "code",
   "execution_count": 27,
   "id": "1c9db12f",
   "metadata": {},
   "outputs": [],
   "source": [
    "def tug_of_war_optimization(objective_function, n_iterations, n_teams, n_members, lb, ub):\n",
    "    # Initialize the population of teams\n",
    "    teams = np.random.uniform(lb, ub, size=(n_teams, n_members))\n",
    "\n",
    "    # Evaluate the initial population\n",
    "    fitness = np.array([objective_function(team) for team in teams])\n",
    "\n",
    "    # Iterate over the specified number of iterations\n",
    "    for i in range(n_iterations):\n",
    "        # Compute the pulling forces between teams\n",
    "        forces = np.zeros((n_teams, n_members))\n",
    "        for j in range(n_teams):\n",
    "            for k in range(n_teams):\n",
    "                if j != k:\n",
    "                    diff = teams[k] - teams[j]\n",
    "                    dist = np.linalg.norm(diff)\n",
    "                    force = (fitness[k] - fitness[j]) * diff / dist\n",
    "                    forces[j] += force\n",
    "                    forces[k] -= force\n",
    "\n",
    "        # Update the positions of the teams based on the pulling forces\n",
    "        velocities = forces / n_members\n",
    "        teams += velocities\n",
    "        teams = np.clip(teams, lb, ub)\n",
    "\n",
    "        # Evaluate the new population\n",
    "        new_fitness = np.array([objective_function(team) for team in teams])\n",
    "\n",
    "        # Update the fitness values and best solution\n",
    "        idx = new_fitness < fitness\n",
    "        fitness[idx] = new_fitness[idx]\n",
    "        \n",
    "        # Print the progress\n",
    "        print(f\"Iteration {i + 1}: Fitness values: {fitness}\")\n",
    "\n",
    "    # Return the best solution and fitness value\n",
    "    best_idx = np.argmax(fitness)\n",
    "    best_solution_two = tuple(teams[best_idx])\n",
    "    best_fitness_two = fitness[best_idx]\n",
    "\n",
    "    return best_solution_two, best_fitness_two"
   ]
  },
  {
   "cell_type": "markdown",
   "id": "eaa4cfad",
   "metadata": {},
   "source": [
    "## <span style=\"color:blue;\">5. Hide Object Game optimizer</span> <a class=\"anchor\" id=\"hogo\"></a>"
   ]
  },
  {
   "cell_type": "code",
   "execution_count": 28,
   "id": "540031cb",
   "metadata": {},
   "outputs": [],
   "source": [
    "def hogo(objective_function, n_iterations, n_agents, n_dimensions, lb, ub, verbose=False):\n",
    "    # Initialize the agents randomly within the search space\n",
    "    agents = np.random.uniform(lb, ub, size=(n_agents, n_dimensions))\n",
    "    old_agents = agents.copy()\n",
    "\n",
    "    # Evaluate the initial population\n",
    "    fitness = np.array([objective_function(agent) for agent in agents])\n",
    "\n",
    "    # Iterate over the specified number of iterations\n",
    "    for i in range(n_iterations):\n",
    "        # Select the best and worst agents as the \"hidden objects\"\n",
    "        best_agent_idx = np.argmax(fitness)\n",
    "        best_agent = agents[best_agent_idx]\n",
    "\n",
    "        worst_agent_idx = np.argmin(fitness)\n",
    "        worst_agent = agents[worst_agent_idx]\n",
    "\n",
    "        # Update the agents based on the behavior of players in a hide-and-seek game\n",
    "        for j in range(n_agents):\n",
    "            if j != best_agent_idx:\n",
    "                # Calculate the distance between the current agent and the best agent\n",
    "                diff_best = best_agent - agents[j]\n",
    "                dist_best = np.linalg.norm(diff_best)\n",
    "\n",
    "                # Update the agent's position towards the best agent\n",
    "                factor_best = np.random.uniform()\n",
    "                agents[j] += factor_best * diff_best / dist_best\n",
    "\n",
    "                # Clip the agent's position to the search space\n",
    "                agents[j] = np.clip(agents[j], lb, ub)\n",
    "\n",
    "            if j != worst_agent_idx:\n",
    "                # Calculate the distance between the current agent and the worst agent\n",
    "                diff_worst = worst_agent - agents[j]\n",
    "                dist_worst = np.linalg.norm(diff_worst)\n",
    "\n",
    "                # Update the agent's position away from the worst agent\n",
    "                factor_worst = np.random.uniform()\n",
    "                agents[j] -= factor_worst * diff_worst / dist_worst\n",
    "\n",
    "                # Clip the agent's position to the search space\n",
    "                agents[j] = np.clip(agents[j], lb, ub)\n",
    "\n",
    "            # Take influence from other players using roulette wheel selection\n",
    "            if j != best_agent_idx and j != worst_agent_idx:\n",
    "                influential_idx = roulette_wheel_selection(agents, fitness)\n",
    "\n",
    "                # Update the agent's position based on the influential player\n",
    "                agents[j] += (agents[influential_idx] - agents[j]) * np.random.uniform()\n",
    "\n",
    "                # Clip the agent's position to the search space\n",
    "                agents[j] = np.clip(agents[j], lb, ub)\n",
    "\n",
    "        # Evaluate the new population\n",
    "        new_fitness = np.array([objective_function(agent) for agent in agents])\n",
    "\n",
    "        # Compare new fitness with old fitness and update if necessary\n",
    "        for j in range(n_agents):\n",
    "            if new_fitness[j] < fitness[j]:\n",
    "                fitness[j] = new_fitness[j]\n",
    "            else:\n",
    "                # If new fitness is not better, return to the previous position\n",
    "                agents[j] = old_agents[j]\n",
    "\n",
    "        old_agents = agents.copy()\n",
    "\n",
    "        # Print the progress if verbose mode is enabled\n",
    "        if verbose:\n",
    "            print(f\"Iteration {i + 1}: Fitness value: {fitness.min()}\")\n",
    "\n",
    "    # Return the best solution and fitness value\n",
    "    best_idx = np.argmax(fitness)\n",
    "    best_solution_hogo = agents[best_idx]\n",
    "    best_fitness_hogo = fitness[best_idx]\n",
    "\n",
    "    return best_solution_hogo, best_fitness_hogo\n",
    "\n",
    "def roulette_wheel_selection(agents, fitness):\n",
    "    # Perform roulette wheel selection to determine influential player's index\n",
    "    total_fitness = np.sum(fitness)\n",
    "    probabilities = fitness / total_fitness\n",
    "    chosen_idx = np.random.choice(len(agents), p=probabilities)\n",
    "    return chosen_idx\n"
   ]
  },
  {
   "cell_type": "markdown",
   "id": "ca7e32a8",
   "metadata": {},
   "source": [
    "## <span style=\"color:blue;\">6. League Championship algorithms</span> <a class=\"anchor\" id=\"lca\"></a>"
   ]
  },
  {
   "cell_type": "code",
   "execution_count": null,
   "id": "c55f29da",
   "metadata": {},
   "outputs": [],
   "source": [
    "def lca(objective_function, n_iterations, n_teams, n_players, n_dimensions, lb, ub, verbose=False):\n",
    "    # Initialize the teams randomly within the search space\n",
    "    teams = np.random.uniform(lb, ub, size=(n_teams, n_players, n_dimensions))\n",
    "\n",
    "    # Evaluate the initial population\n",
    "    fitness = np.array([[objective_function(player) for player in team] for team in teams])\n",
    "\n",
    "    # Iterate over the specified number of iterations\n",
    "    for i in range(n_iterations):\n",
    "        # Select the best teams to advance to the next division\n",
    "        best_teams_idx = np.argsort(np.sum(fitness, axis=1))[:n_teams // 2]\n",
    "        best_teams = teams[best_teams_idx]\n",
    "\n",
    "        # Update the teams based on the performance of the best teams\n",
    "        for j in range(n_teams):\n",
    "            if j not in best_teams_idx:\n",
    "                \n",
    "                # Select two random teams to compete\n",
    "                team1, team2 = np.random.choice(best_teams, size=2, replace=False)\n",
    "\n",
    "                # Calculate the fitness of each team\n",
    "                fitness1 = np.sum([objective_function(player) for player in team1])\n",
    "                fitness2 = np.sum([objective_function(player) for player in team2])\n",
    "\n",
    "                # Update the losing team's players based on the winning team's players\n",
    "                if fitness1 > fitness2:\n",
    "                    loser, winner = team2, team1\n",
    "                else:\n",
    "                    loser, winner = team1, team2\n",
    "\n",
    "                for k in range(n_players):\n",
    "                    winner[k] = loser[np.random.randint(n_players)][:]\n",
    "                    winner[k] += np.random.uniform(-1, 1, size=n_dimensions) * (ub - lb)\n",
    "\n",
    "                   # Clip the player's position to the search space\n",
    "                   winner[k] = np.clip(winner[k], lb, ub)\n",
    "\n",
    "                # Evaluate the new team's fitness\n",
    "                fitness[j] = np.array([objective_function(player) for player in winner])\n",
    "\n",
    "        # Print the progress if verbose mode is enabled\n",
    "        if verbose:\n",
    "            print(f\"Iteration {i + 1}: Fitness value: {fitness.min()}\")\n",
    "\n",
    "    # Return the best solution and fitness value\n",
    "    best_team_idx = np.argmax(np.sum(fitness, axis=1))\n",
    "    best_solution_lca = teams[best_team_idx]\n",
    "    best_fitness_lca = np.sum(fitness[best_team_idx])\n",
    "\n",
    "    return best_solution_lca, best_fitness_lca\n"
   ]
  },
  {
   "cell_type": "markdown",
   "id": "a572e5ec",
   "metadata": {},
   "source": [
    "## <span style=\"color:blue;\">7. Most Valuable Player algorithms</span> <a class=\"anchor\" id=\"mvpa\"></a>"
   ]
  },
  {
   "cell_type": "code",
   "execution_count": 37,
   "id": "0a5f30fe",
   "metadata": {},
   "outputs": [],
   "source": [
    "import numpy as np\n",
    "\n",
    "def individual_competition(team, franchise_player):\n",
    "    rand = np.random.uniform()\n",
    "    new_team = {}\n",
    "    for key, value in team.items():\n",
    "        if isinstance(value, (int, float)):\n",
    "            new_team[key] = value + rand * (franchise_player[key] - value) + rand * (np.random.uniform() - 0.5)\n",
    "        else:\n",
    "            new_team[key] = value  \n",
    "    return new_team\n",
    "\n",
    "\n",
    "def team_competition(team1, team2, fitness1, fitness2):\n",
    "    prob_team1_wins = fitness1 / (fitness1 + fitness2)\n",
    "    if np.random.rand() < prob_team1_wins:\n",
    "        return team1, team2\n",
    "    else:\n",
    "        return team2, team1\n",
    "\n",
    "def update_skills_after_competition(winner, loser, franchise_player):\n",
    "    rand = np.random.uniform()\n",
    "    new_winner, new_loser = {}, {}\n",
    "    for key, value in winner.items():\n",
    "        if isinstance(value, (int, float)):\n",
    "            new_winner[key] = value + rand * (franchise_player[key] - value)\n",
    "        else:\n",
    "            new_winner[key] = value  \n",
    "\n",
    "    for key, value in loser.items():\n",
    "        if isinstance(value, (int, float)):\n",
    "            new_loser[key] = value + rand * (franchise_player[key] - value)\n",
    "        else:\n",
    "            new_loser[key] = value \n",
    "\n",
    "    return new_winner, new_loser\n",
    "\n",
    "def mutate_solution(solution, param_distributions, mutation_rate):\n",
    "    mutated_solution = {key: value for key, value in solution.items()}\n",
    "    for key in param_distributions.keys():\n",
    "        if np.random.rand() < mutation_rate:\n",
    "            mutated_solution[key] = np.random.choice(param_distributions[key])\n",
    "    return mutated_solution\n",
    "\n",
    "def mvpa(objective_function, n_solutions, param_distributions, n_iterations=10, mutation_rate=0.1):\n",
    "    # Initialize the population\n",
    "    solutions = [{key: np.random.choice(param_distributions[key]) for key in param_distributions} for _ in range(n_solutions)]\n",
    "\n",
    "    # Evaluate the initial population\n",
    "    fitness = np.array([objective_function(solution) for solution in solutions])\n",
    "\n",
    "    # Iterate over the specified number of iterations\n",
    "    for _ in range(n_iterations):\n",
    "        \n",
    "        # Identify the best solution\n",
    "        best_idx = np.argmax(fitness)\n",
    "        best_solution = solutions[best_idx]\n",
    "        best_fitness = fitness[best_idx]\n",
    "\n",
    "        # Individual competition for each team\n",
    "        for j in range(n_solutions):\n",
    "            solutions[j] = individual_competition(solutions[j], best_solution)\n",
    "\n",
    "        # Team competition\n",
    "        for j in range(n_solutions):\n",
    "            if j != best_idx:\n",
    "                winner, loser = team_competition(best_solution, solutions[j], best_fitness, fitness[j])\n",
    "                solutions[j], best_solution = update_skills_after_competition(winner, loser, best_solution)\n",
    "\n",
    "        # Mutation to create new solutions\n",
    "        new_solutions = [mutate_solution(solution, param_distributions, mutation_rate) for solution in solutions]\n",
    "\n",
    "        # Evaluate the new population\n",
    "        new_fitness = np.array([objective_function(solution) for solution in new_solutions])\n",
    "\n",
    "        # Replace the old population with the new one if fitness improves\n",
    "        if np.max(new_fitness) > best_fitness:\n",
    "            solutions, fitness = new_solutions, new_fitness\n",
    "            best_idx = np.argmax(new_fitness)\n",
    "            best_solution_mvpa, best_fitness_mvpa = new_solutions[best_idx], new_fitness[best_idx]\n",
    "\n",
    "    return best_solution_mvpa, best_fitness_mvpa\n"
   ]
  },
  {
   "cell_type": "code",
   "execution_count": null,
   "id": "b1c2f51d",
   "metadata": {},
   "outputs": [],
   "source": []
  },
  {
   "cell_type": "code",
   "execution_count": 134,
   "id": "ed9abd6e",
   "metadata": {},
   "outputs": [],
   "source": [
    "#a simpler mvpa\n",
    "def mvpa(objective_function, n_solutions, param_distributions, n_iterations=10, mutation_rate=0.1):\n",
    "    # Initialize the population\n",
    "    solutions = [dict(zip(param_distributions.keys(), [np.random.choice(param_distributions[key]) for key in param_distributions])) for _ in range(n_solutions)]\n",
    "\n",
    "    # Evaluate the initial population\n",
    "    fitness = np.array([objective_function(solution) for solution in solutions])\n",
    "\n",
    "    # Iterate over the specified number of iterations\n",
    "    for i in range(n_iterations):\n",
    "        # Identify the best solution\n",
    "        best_idx = np.argmax(fitness)\n",
    "        best_solution = solutions[best_idx]\n",
    "        best_fitness = fitness[best_idx]\n",
    "\n",
    "        # Apply mutation to create new solutions\n",
    "        new_solutions = []\n",
    "        for solution in solutions:\n",
    "            mutated_solution = {key: value for key, value in solution.items()}\n",
    "            for key in param_distributions.keys():\n",
    "                if np.random.rand() < mutation_rate:\n",
    "                    mutated_solution[key] = np.random.choice(param_distributions[key])\n",
    "            new_solutions.append(mutated_solution)\n",
    "\n",
    "        # Evaluate the new population\n",
    "        new_fitness = np.array([objective_function(solution) for solution in new_solutions])\n",
    "\n",
    "        # Replace the old population with the new one if fitness improves\n",
    "        if np.max(new_fitness) > best_fitness:\n",
    "            solutions = new_solutions\n",
    "            fitness = new_fitness\n",
    "            best_idx = np.argmax(new_fitness)\n",
    "            best_solution = new_solutions[best_idx]\n",
    "            best_fitness = new_fitness[best_idx]\n",
    "\n",
    "    return best_solution, best_fitness\n",
    "\n"
   ]
  },
  {
   "cell_type": "markdown",
   "id": "70c7e608",
   "metadata": {},
   "source": [
    "## <span style=\"color:blue;\">8. Testing</span> <a class=\"anchor\" id=\"test\"></a>"
   ]
  },
  {
   "cell_type": "markdown",
   "id": "97d72fc1",
   "metadata": {},
   "source": [
    "### 1.0. Parameter Deinition"
   ]
  },
  {
   "cell_type": "code",
   "execution_count": 29,
   "id": "c93c2ea4",
   "metadata": {},
   "outputs": [],
   "source": [
    "param_grid = {\n",
    "    'C': [0.1, 1, 10, 100],\n",
    "    'gamma': [1, 0.1, 0.01, 0.001],\n",
    "    'kernel': ['rbf', 'linear', 'poly']\n",
    "}"
   ]
  },
  {
   "cell_type": "markdown",
   "id": "089caf6a",
   "metadata": {},
   "source": [
    "### 1.1. TOW"
   ]
  },
  {
   "cell_type": "code",
   "execution_count": 30,
   "id": "b15ceb4b",
   "metadata": {},
   "outputs": [
    {
     "name": "stdout",
     "output_type": "stream",
     "text": [
      "Iteration 1: Fitness values: [0.955 0.97 ]\n",
      "Iteration 2: Fitness values: [0.955 0.97 ]\n",
      "Iteration 3: Fitness values: [0.955 0.97 ]\n",
      "Iteration 4: Fitness values: [0.955 0.97 ]\n",
      "Iteration 5: Fitness values: [0.955 0.97 ]\n"
     ]
    }
   ],
   "source": [
    "best_solution_two, best_fitness_two = tug_of_war_optimization(objective_function, 5,2, 2, 0, 2)"
   ]
  },
  {
   "cell_type": "code",
   "execution_count": 31,
   "id": "aa603f21",
   "metadata": {},
   "outputs": [
    {
     "data": {
      "text/html": [
       "<style>#sk-container-id-2 {color: black;background-color: white;}#sk-container-id-2 pre{padding: 0;}#sk-container-id-2 div.sk-toggleable {background-color: white;}#sk-container-id-2 label.sk-toggleable__label {cursor: pointer;display: block;width: 100%;margin-bottom: 0;padding: 0.3em;box-sizing: border-box;text-align: center;}#sk-container-id-2 label.sk-toggleable__label-arrow:before {content: \"▸\";float: left;margin-right: 0.25em;color: #696969;}#sk-container-id-2 label.sk-toggleable__label-arrow:hover:before {color: black;}#sk-container-id-2 div.sk-estimator:hover label.sk-toggleable__label-arrow:before {color: black;}#sk-container-id-2 div.sk-toggleable__content {max-height: 0;max-width: 0;overflow: hidden;text-align: left;background-color: #f0f8ff;}#sk-container-id-2 div.sk-toggleable__content pre {margin: 0.2em;color: black;border-radius: 0.25em;background-color: #f0f8ff;}#sk-container-id-2 input.sk-toggleable__control:checked~div.sk-toggleable__content {max-height: 200px;max-width: 100%;overflow: auto;}#sk-container-id-2 input.sk-toggleable__control:checked~label.sk-toggleable__label-arrow:before {content: \"▾\";}#sk-container-id-2 div.sk-estimator input.sk-toggleable__control:checked~label.sk-toggleable__label {background-color: #d4ebff;}#sk-container-id-2 div.sk-label input.sk-toggleable__control:checked~label.sk-toggleable__label {background-color: #d4ebff;}#sk-container-id-2 input.sk-hidden--visually {border: 0;clip: rect(1px 1px 1px 1px);clip: rect(1px, 1px, 1px, 1px);height: 1px;margin: -1px;overflow: hidden;padding: 0;position: absolute;width: 1px;}#sk-container-id-2 div.sk-estimator {font-family: monospace;background-color: #f0f8ff;border: 1px dotted black;border-radius: 0.25em;box-sizing: border-box;margin-bottom: 0.5em;}#sk-container-id-2 div.sk-estimator:hover {background-color: #d4ebff;}#sk-container-id-2 div.sk-parallel-item::after {content: \"\";width: 100%;border-bottom: 1px solid gray;flex-grow: 1;}#sk-container-id-2 div.sk-label:hover label.sk-toggleable__label {background-color: #d4ebff;}#sk-container-id-2 div.sk-serial::before {content: \"\";position: absolute;border-left: 1px solid gray;box-sizing: border-box;top: 0;bottom: 0;left: 50%;z-index: 0;}#sk-container-id-2 div.sk-serial {display: flex;flex-direction: column;align-items: center;background-color: white;padding-right: 0.2em;padding-left: 0.2em;position: relative;}#sk-container-id-2 div.sk-item {position: relative;z-index: 1;}#sk-container-id-2 div.sk-parallel {display: flex;align-items: stretch;justify-content: center;background-color: white;position: relative;}#sk-container-id-2 div.sk-item::before, #sk-container-id-2 div.sk-parallel-item::before {content: \"\";position: absolute;border-left: 1px solid gray;box-sizing: border-box;top: 0;bottom: 0;left: 50%;z-index: -1;}#sk-container-id-2 div.sk-parallel-item {display: flex;flex-direction: column;z-index: 1;position: relative;background-color: white;}#sk-container-id-2 div.sk-parallel-item:first-child::after {align-self: flex-end;width: 50%;}#sk-container-id-2 div.sk-parallel-item:last-child::after {align-self: flex-start;width: 50%;}#sk-container-id-2 div.sk-parallel-item:only-child::after {width: 0;}#sk-container-id-2 div.sk-dashed-wrapped {border: 1px dashed gray;margin: 0 0.4em 0.5em 0.4em;box-sizing: border-box;padding-bottom: 0.4em;background-color: white;}#sk-container-id-2 div.sk-label label {font-family: monospace;font-weight: bold;display: inline-block;line-height: 1.2em;}#sk-container-id-2 div.sk-label-container {text-align: center;}#sk-container-id-2 div.sk-container {/* jupyter's `normalize.less` sets `[hidden] { display: none; }` but bootstrap.min.css set `[hidden] { display: none !important; }` so we also need the `!important` here to be able to override the default hidden behavior on the sphinx rendered scikit-learn.org. See: https://github.com/scikit-learn/scikit-learn/issues/21755 */display: inline-block !important;position: relative;}#sk-container-id-2 div.sk-text-repr-fallback {display: none;}</style><div id=\"sk-container-id-2\" class=\"sk-top-container\"><div class=\"sk-text-repr-fallback\"><pre>SVC(C=1.4997705889396502, gamma=0.5684740573637379)</pre><b>In a Jupyter environment, please rerun this cell to show the HTML representation or trust the notebook. <br />On GitHub, the HTML representation is unable to render, please try loading this page with nbviewer.org.</b></div><div class=\"sk-container\" hidden><div class=\"sk-item\"><div class=\"sk-estimator sk-toggleable\"><input class=\"sk-toggleable__control sk-hidden--visually\" id=\"sk-estimator-id-2\" type=\"checkbox\" checked><label for=\"sk-estimator-id-2\" class=\"sk-toggleable__label sk-toggleable__label-arrow\">SVC</label><div class=\"sk-toggleable__content\"><pre>SVC(C=1.4997705889396502, gamma=0.5684740573637379)</pre></div></div></div></div></div>"
      ],
      "text/plain": [
       "SVC(C=1.4997705889396502, gamma=0.5684740573637379)"
      ]
     },
     "execution_count": 31,
     "metadata": {},
     "output_type": "execute_result"
    }
   ],
   "source": [
    "optimized_svm_tow = SVC(C=best_solution_two[0], gamma=best_solution_two[1], kernel='rbf')\n",
    "optimized_svm_tow.fit(l_X_train, l_Y_train)"
   ]
  },
  {
   "cell_type": "markdown",
   "id": "1a65a8ff",
   "metadata": {},
   "source": [
    "### 1.2. HOGO"
   ]
  },
  {
   "cell_type": "code",
   "execution_count": 33,
   "id": "5e332917",
   "metadata": {},
   "outputs": [],
   "source": [
    "n_agents = 10\n",
    "n_dimensions = len(param_grid)\n",
    "lb = np.array([0.01] * n_dimensions)\n",
    "ub = np.array([10.0] * n_dimensions)\n",
    "\n",
    "best_solution_hogo, best_fitness_hogo = hogo(objective_function, 1, n_agents, n_dimensions, lb, ub)"
   ]
  },
  {
   "cell_type": "code",
   "execution_count": 34,
   "id": "903f029e",
   "metadata": {},
   "outputs": [
    {
     "data": {
      "text/html": [
       "<style>#sk-container-id-3 {color: black;background-color: white;}#sk-container-id-3 pre{padding: 0;}#sk-container-id-3 div.sk-toggleable {background-color: white;}#sk-container-id-3 label.sk-toggleable__label {cursor: pointer;display: block;width: 100%;margin-bottom: 0;padding: 0.3em;box-sizing: border-box;text-align: center;}#sk-container-id-3 label.sk-toggleable__label-arrow:before {content: \"▸\";float: left;margin-right: 0.25em;color: #696969;}#sk-container-id-3 label.sk-toggleable__label-arrow:hover:before {color: black;}#sk-container-id-3 div.sk-estimator:hover label.sk-toggleable__label-arrow:before {color: black;}#sk-container-id-3 div.sk-toggleable__content {max-height: 0;max-width: 0;overflow: hidden;text-align: left;background-color: #f0f8ff;}#sk-container-id-3 div.sk-toggleable__content pre {margin: 0.2em;color: black;border-radius: 0.25em;background-color: #f0f8ff;}#sk-container-id-3 input.sk-toggleable__control:checked~div.sk-toggleable__content {max-height: 200px;max-width: 100%;overflow: auto;}#sk-container-id-3 input.sk-toggleable__control:checked~label.sk-toggleable__label-arrow:before {content: \"▾\";}#sk-container-id-3 div.sk-estimator input.sk-toggleable__control:checked~label.sk-toggleable__label {background-color: #d4ebff;}#sk-container-id-3 div.sk-label input.sk-toggleable__control:checked~label.sk-toggleable__label {background-color: #d4ebff;}#sk-container-id-3 input.sk-hidden--visually {border: 0;clip: rect(1px 1px 1px 1px);clip: rect(1px, 1px, 1px, 1px);height: 1px;margin: -1px;overflow: hidden;padding: 0;position: absolute;width: 1px;}#sk-container-id-3 div.sk-estimator {font-family: monospace;background-color: #f0f8ff;border: 1px dotted black;border-radius: 0.25em;box-sizing: border-box;margin-bottom: 0.5em;}#sk-container-id-3 div.sk-estimator:hover {background-color: #d4ebff;}#sk-container-id-3 div.sk-parallel-item::after {content: \"\";width: 100%;border-bottom: 1px solid gray;flex-grow: 1;}#sk-container-id-3 div.sk-label:hover label.sk-toggleable__label {background-color: #d4ebff;}#sk-container-id-3 div.sk-serial::before {content: \"\";position: absolute;border-left: 1px solid gray;box-sizing: border-box;top: 0;bottom: 0;left: 50%;z-index: 0;}#sk-container-id-3 div.sk-serial {display: flex;flex-direction: column;align-items: center;background-color: white;padding-right: 0.2em;padding-left: 0.2em;position: relative;}#sk-container-id-3 div.sk-item {position: relative;z-index: 1;}#sk-container-id-3 div.sk-parallel {display: flex;align-items: stretch;justify-content: center;background-color: white;position: relative;}#sk-container-id-3 div.sk-item::before, #sk-container-id-3 div.sk-parallel-item::before {content: \"\";position: absolute;border-left: 1px solid gray;box-sizing: border-box;top: 0;bottom: 0;left: 50%;z-index: -1;}#sk-container-id-3 div.sk-parallel-item {display: flex;flex-direction: column;z-index: 1;position: relative;background-color: white;}#sk-container-id-3 div.sk-parallel-item:first-child::after {align-self: flex-end;width: 50%;}#sk-container-id-3 div.sk-parallel-item:last-child::after {align-self: flex-start;width: 50%;}#sk-container-id-3 div.sk-parallel-item:only-child::after {width: 0;}#sk-container-id-3 div.sk-dashed-wrapped {border: 1px dashed gray;margin: 0 0.4em 0.5em 0.4em;box-sizing: border-box;padding-bottom: 0.4em;background-color: white;}#sk-container-id-3 div.sk-label label {font-family: monospace;font-weight: bold;display: inline-block;line-height: 1.2em;}#sk-container-id-3 div.sk-label-container {text-align: center;}#sk-container-id-3 div.sk-container {/* jupyter's `normalize.less` sets `[hidden] { display: none; }` but bootstrap.min.css set `[hidden] { display: none !important; }` so we also need the `!important` here to be able to override the default hidden behavior on the sphinx rendered scikit-learn.org. See: https://github.com/scikit-learn/scikit-learn/issues/21755 */display: inline-block !important;position: relative;}#sk-container-id-3 div.sk-text-repr-fallback {display: none;}</style><div id=\"sk-container-id-3\" class=\"sk-top-container\"><div class=\"sk-text-repr-fallback\"><pre>SVC(C=7.072905856594617, gamma=0.752000978552471)</pre><b>In a Jupyter environment, please rerun this cell to show the HTML representation or trust the notebook. <br />On GitHub, the HTML representation is unable to render, please try loading this page with nbviewer.org.</b></div><div class=\"sk-container\" hidden><div class=\"sk-item\"><div class=\"sk-estimator sk-toggleable\"><input class=\"sk-toggleable__control sk-hidden--visually\" id=\"sk-estimator-id-3\" type=\"checkbox\" checked><label for=\"sk-estimator-id-3\" class=\"sk-toggleable__label sk-toggleable__label-arrow\">SVC</label><div class=\"sk-toggleable__content\"><pre>SVC(C=7.072905856594617, gamma=0.752000978552471)</pre></div></div></div></div></div>"
      ],
      "text/plain": [
       "SVC(C=7.072905856594617, gamma=0.752000978552471)"
      ]
     },
     "execution_count": 34,
     "metadata": {},
     "output_type": "execute_result"
    }
   ],
   "source": [
    "optimized_svm_hogo = SVC(C=best_solution_hogo[0], gamma=best_solution_hogo[1], kernel='rbf')\n",
    "optimized_svm_hogo.fit(l_X_train, l_Y_train)"
   ]
  },
  {
   "cell_type": "markdown",
   "id": "92d7cc25",
   "metadata": {},
   "source": [
    "### 1.3. LCA"
   ]
  },
  {
   "cell_type": "code",
   "execution_count": null,
   "id": "0e255f84",
   "metadata": {},
   "outputs": [],
   "source": [
    "#n_teams = 10\n",
    "#n_dimensions = len(param_grid)\n",
    "#lb = np.array([0.01] * n_dimensions)\n",
    "#ub = np.array([2.0] * n_dimensions)\n",
    "\n",
    "#best_solution_lca, best_fitness_lca = lca(objective_function, 100, n_teams, 1,1, 1, 2)"
   ]
  },
  {
   "cell_type": "code",
   "execution_count": null,
   "id": "dcd5409f",
   "metadata": {},
   "outputs": [],
   "source": [
    "#optimized_svm = SVC(C=best_solution_lca[0], gamma=best_solution_lca[1], kernel='rbf')\n",
    "#optimized_svm.fit(l_X_train, l_Y_train)"
   ]
  },
  {
   "cell_type": "markdown",
   "id": "dd931a3f",
   "metadata": {},
   "source": [
    "### 1.4. MVPA"
   ]
  },
  {
   "cell_type": "code",
   "execution_count": 135,
   "id": "fe8c32a9",
   "metadata": {},
   "outputs": [],
   "source": [
    "n_solutions = 10  # population size\n",
    "best_solution, best_fitness = mvpa(objective_function, n_solutions, param_grid)"
   ]
  },
  {
   "cell_type": "code",
   "execution_count": 136,
   "id": "d917a663",
   "metadata": {},
   "outputs": [
    {
     "data": {
      "text/html": [
       "<style>#sk-container-id-10 {color: black;background-color: white;}#sk-container-id-10 pre{padding: 0;}#sk-container-id-10 div.sk-toggleable {background-color: white;}#sk-container-id-10 label.sk-toggleable__label {cursor: pointer;display: block;width: 100%;margin-bottom: 0;padding: 0.3em;box-sizing: border-box;text-align: center;}#sk-container-id-10 label.sk-toggleable__label-arrow:before {content: \"▸\";float: left;margin-right: 0.25em;color: #696969;}#sk-container-id-10 label.sk-toggleable__label-arrow:hover:before {color: black;}#sk-container-id-10 div.sk-estimator:hover label.sk-toggleable__label-arrow:before {color: black;}#sk-container-id-10 div.sk-toggleable__content {max-height: 0;max-width: 0;overflow: hidden;text-align: left;background-color: #f0f8ff;}#sk-container-id-10 div.sk-toggleable__content pre {margin: 0.2em;color: black;border-radius: 0.25em;background-color: #f0f8ff;}#sk-container-id-10 input.sk-toggleable__control:checked~div.sk-toggleable__content {max-height: 200px;max-width: 100%;overflow: auto;}#sk-container-id-10 input.sk-toggleable__control:checked~label.sk-toggleable__label-arrow:before {content: \"▾\";}#sk-container-id-10 div.sk-estimator input.sk-toggleable__control:checked~label.sk-toggleable__label {background-color: #d4ebff;}#sk-container-id-10 div.sk-label input.sk-toggleable__control:checked~label.sk-toggleable__label {background-color: #d4ebff;}#sk-container-id-10 input.sk-hidden--visually {border: 0;clip: rect(1px 1px 1px 1px);clip: rect(1px, 1px, 1px, 1px);height: 1px;margin: -1px;overflow: hidden;padding: 0;position: absolute;width: 1px;}#sk-container-id-10 div.sk-estimator {font-family: monospace;background-color: #f0f8ff;border: 1px dotted black;border-radius: 0.25em;box-sizing: border-box;margin-bottom: 0.5em;}#sk-container-id-10 div.sk-estimator:hover {background-color: #d4ebff;}#sk-container-id-10 div.sk-parallel-item::after {content: \"\";width: 100%;border-bottom: 1px solid gray;flex-grow: 1;}#sk-container-id-10 div.sk-label:hover label.sk-toggleable__label {background-color: #d4ebff;}#sk-container-id-10 div.sk-serial::before {content: \"\";position: absolute;border-left: 1px solid gray;box-sizing: border-box;top: 0;bottom: 0;left: 50%;z-index: 0;}#sk-container-id-10 div.sk-serial {display: flex;flex-direction: column;align-items: center;background-color: white;padding-right: 0.2em;padding-left: 0.2em;position: relative;}#sk-container-id-10 div.sk-item {position: relative;z-index: 1;}#sk-container-id-10 div.sk-parallel {display: flex;align-items: stretch;justify-content: center;background-color: white;position: relative;}#sk-container-id-10 div.sk-item::before, #sk-container-id-10 div.sk-parallel-item::before {content: \"\";position: absolute;border-left: 1px solid gray;box-sizing: border-box;top: 0;bottom: 0;left: 50%;z-index: -1;}#sk-container-id-10 div.sk-parallel-item {display: flex;flex-direction: column;z-index: 1;position: relative;background-color: white;}#sk-container-id-10 div.sk-parallel-item:first-child::after {align-self: flex-end;width: 50%;}#sk-container-id-10 div.sk-parallel-item:last-child::after {align-self: flex-start;width: 50%;}#sk-container-id-10 div.sk-parallel-item:only-child::after {width: 0;}#sk-container-id-10 div.sk-dashed-wrapped {border: 1px dashed gray;margin: 0 0.4em 0.5em 0.4em;box-sizing: border-box;padding-bottom: 0.4em;background-color: white;}#sk-container-id-10 div.sk-label label {font-family: monospace;font-weight: bold;display: inline-block;line-height: 1.2em;}#sk-container-id-10 div.sk-label-container {text-align: center;}#sk-container-id-10 div.sk-container {/* jupyter's `normalize.less` sets `[hidden] { display: none; }` but bootstrap.min.css set `[hidden] { display: none !important; }` so we also need the `!important` here to be able to override the default hidden behavior on the sphinx rendered scikit-learn.org. See: https://github.com/scikit-learn/scikit-learn/issues/21755 */display: inline-block !important;position: relative;}#sk-container-id-10 div.sk-text-repr-fallback {display: none;}</style><div id=\"sk-container-id-10\" class=\"sk-top-container\"><div class=\"sk-text-repr-fallback\"><pre>SVC(C=100.0, class_weight=&#x27;balanced&#x27;, gamma=0.01)</pre><b>In a Jupyter environment, please rerun this cell to show the HTML representation or trust the notebook. <br />On GitHub, the HTML representation is unable to render, please try loading this page with nbviewer.org.</b></div><div class=\"sk-container\" hidden><div class=\"sk-item\"><div class=\"sk-estimator sk-toggleable\"><input class=\"sk-toggleable__control sk-hidden--visually\" id=\"sk-estimator-id-10\" type=\"checkbox\" checked><label for=\"sk-estimator-id-10\" class=\"sk-toggleable__label sk-toggleable__label-arrow\">SVC</label><div class=\"sk-toggleable__content\"><pre>SVC(C=100.0, class_weight=&#x27;balanced&#x27;, gamma=0.01)</pre></div></div></div></div></div>"
      ],
      "text/plain": [
       "SVC(C=100.0, class_weight='balanced', gamma=0.01)"
      ]
     },
     "execution_count": 136,
     "metadata": {},
     "output_type": "execute_result"
    }
   ],
   "source": [
    "optimized_svm_mvpa = SVC(C=best_solution_mvpa[\"C\"], gamma=best_solution_mvpa[\"gamma\"], kernel='rbf', class_weight='balanced')\n",
    "optimized_svm_mvpa.fit(l_X_train, l_Y_train)"
   ]
  },
  {
   "cell_type": "markdown",
   "id": "5b16dbf1",
   "metadata": {},
   "source": [
    "## <span style=\"color:blue;\">9. Evaluation</span> <a class=\"anchor\" id=\"eval\"></a>"
   ]
  },
  {
   "cell_type": "markdown",
   "id": "0a1e2e47",
   "metadata": {},
   "source": [
    "### 1.1. TOW"
   ]
  },
  {
   "cell_type": "code",
   "execution_count": 32,
   "id": "51caf191",
   "metadata": {},
   "outputs": [
    {
     "name": "stdout",
     "output_type": "stream",
     "text": [
      "Classification Report for the Optimized SVM Classifier:\n",
      "Best F1 score: 0.97\n",
      "              precision    recall  f1-score   support\n",
      "\n",
      "           0       0.96      0.98      0.97       100\n",
      "           1       0.98      0.96      0.97       100\n",
      "\n",
      "    accuracy                           0.97       200\n",
      "   macro avg       0.97      0.97      0.97       200\n",
      "weighted avg       0.97      0.97      0.97       200\n",
      "\n",
      "[[98  2]\n",
      " [ 4 96]]\n"
     ]
    }
   ],
   "source": [
    "y_pred_val = optimized_svm_tow.predict(l_X_test)\n",
    "print(\"Classification Report for the Optimized SVM Classifier:\")\n",
    "accuracy = accuracy_score(l_Y_test, y_pred_val)\n",
    "print(f\"Best F1 score: {accuracy}\")\n",
    "print(classification_report(l_Y_test, y_pred_val))\n",
    "print(confusion_matrix(l_Y_test, y_pred_val,))"
   ]
  },
  {
   "cell_type": "markdown",
   "id": "ae8c815e",
   "metadata": {},
   "source": [
    "### 1.2. HOGO"
   ]
  },
  {
   "cell_type": "code",
   "execution_count": 35,
   "id": "7a6cf757",
   "metadata": {},
   "outputs": [
    {
     "name": "stdout",
     "output_type": "stream",
     "text": [
      "Classification Report for the Optimized SVM Classifier:\n",
      "Best F1 score: 0.97\n",
      "              precision    recall  f1-score   support\n",
      "\n",
      "           0       0.96      0.98      0.97       100\n",
      "           1       0.98      0.96      0.97       100\n",
      "\n",
      "    accuracy                           0.97       200\n",
      "   macro avg       0.97      0.97      0.97       200\n",
      "weighted avg       0.97      0.97      0.97       200\n",
      "\n",
      "[[98  2]\n",
      " [ 4 96]]\n"
     ]
    }
   ],
   "source": [
    "from sklearn.metrics import classification_report\n",
    "\n",
    "y_pred_val = optimized_svm_hogo.predict(l_X_test)\n",
    "print(\"Classification Report for the Optimized SVM Classifier:\")\n",
    "accuracy = accuracy_score(l_Y_test, y_pred_val)\n",
    "print(f\"Best F1 score: {accuracy}\")\n",
    "print(classification_report(l_Y_test, y_pred_val))\n",
    "print(confusion_matrix(l_Y_test, y_pred_val,))"
   ]
  },
  {
   "cell_type": "markdown",
   "id": "a1c893db",
   "metadata": {},
   "source": [
    "### 1.3. LCA"
   ]
  },
  {
   "cell_type": "code",
   "execution_count": null,
   "id": "42b83624",
   "metadata": {},
   "outputs": [],
   "source": [
    "#y_pred_val = optimized_svm_hogo.predict(l_X_test)\n",
    "#print(\"Classification Report for the Optimized SVM Classifier:\")\n",
    "#accuracy = accuracy_score(l_Y_test, y_pred_val)\n",
    "#print(f\"Best F1 score: {accuracy}\")\n",
    "#print(classification_report(l_Y_test, y_pred_val))\n",
    "#print(confusion_matrix(l_Y_test, y_pred_val,))"
   ]
  },
  {
   "cell_type": "markdown",
   "id": "e62ce7b7",
   "metadata": {},
   "source": [
    "### 1.4. MVPA"
   ]
  },
  {
   "cell_type": "code",
   "execution_count": 137,
   "id": "0707612c",
   "metadata": {},
   "outputs": [
    {
     "name": "stdout",
     "output_type": "stream",
     "text": [
      "Classification Report for the Optimized SVM Classifier:\n",
      "Best F1 score: 0.97\n",
      "              precision    recall  f1-score   support\n",
      "\n",
      "           0       0.96      0.98      0.97       100\n",
      "           1       0.98      0.96      0.97       100\n",
      "\n",
      "    accuracy                           0.97       200\n",
      "   macro avg       0.97      0.97      0.97       200\n",
      "weighted avg       0.97      0.97      0.97       200\n",
      "\n",
      "[[98  2]\n",
      " [ 4 96]]\n"
     ]
    }
   ],
   "source": [
    "y_pred_val = optimized_svm_mvpa.predict(l_X_test)\n",
    "print(\"Classification Report for the Optimized SVM Classifier:\")\n",
    "accuracy = accuracy_score(l_Y_test, y_pred_val)\n",
    "print(f\"Best F1 score: {accuracy}\")\n",
    "print(classification_report(l_Y_test, y_pred_val))\n",
    "print(confusion_matrix(l_Y_test, y_pred_val,))"
   ]
  },
  {
   "cell_type": "markdown",
   "id": "7682369e",
   "metadata": {},
   "source": [
    "## <span style=\"color:blue;\">10. Ludo Game function</span> <a class=\"anchor\" id=\"ludo\"></a>"
   ]
  },
  {
   "cell_type": "code",
   "execution_count": 123,
   "id": "26f19b94",
   "metadata": {},
   "outputs": [
    {
     "name": "stdout",
     "output_type": "stream",
     "text": [
      "Output Token: 6.886751988172646\n"
     ]
    }
   ],
   "source": [
    "#this implementation of ludo game is a simple approach , i did not use the 4 metaheurstics instead i just used\n",
    "#a placeholder function to simulate the ludo game process, that's because i didn't have all my 4 metaheuristics ready since LCA\n",
    "#wasn't completely functionnal \n",
    "\n",
    "def ludo_game_algorithm(total_tokens, num_iterations, num_parts, X_train, Y_train, X_test, Y_test):\n",
    "    # Step 1: Select the total tokens (NT) and randomly initialize in the search space\n",
    "    tokens = np.random.rand(total_tokens)\n",
    "    \n",
    "    \n",
    "    for iteration in range(num_iterations):\n",
    "        # Step 2: Calculate the fitness of NT\n",
    "        fitness = calculate_fitness(tokens, X_train, Y_train, X_test, Y_test)\n",
    "        \n",
    "        # Step 4: Determine the best token from fitness value\n",
    "        best_token = tokens[np.argmax(fitness)]\n",
    "        \n",
    "        # Begin Intraloop\n",
    "        intraloop = num_parts\n",
    "        while intraloop >= 1:\n",
    "            # Step 10: Calculate intraloop\n",
    "            # Step 11: Select part, where (i c {1,2} for LGSI 2, ic (1,2....4}for LGSI 4)\n",
    "            part = select_part(num_parts)\n",
    "            \n",
    "            # Step 12: Execute part, using Random Six algorithm\n",
    "            token = random_six(tokens, best_token, part)\n",
    "            \n",
    "            # Step 13: Randomly select a token T, from part\n",
    "            # Step 14: Apply corresponding algorithm of part, to update T intraloop-intraloop-1;\n",
    "            tokens = update_token(tokens, token, part, X_train, Y_train, X_test, Y_test)\n",
    "            \n",
    "            # End Intraloop\n",
    "            intraloop -= 1\n",
    "        \n",
    "        # Step 15: Select the best token T, in total population (NT).\n",
    "        best_token = tokens[np.argmax(fitness)]\n",
    "    \n",
    "    # Step 16: Output T\n",
    "    return best_token\n",
    "\n",
    "def calculate_fitness(tokens, X_train, Y_train, X_test, Y_test):\n",
    "    return np.random.rand(len(tokens))\n",
    "\n",
    "def select_part(num_parts):\n",
    "    # Step 11: Select part, where (i c {1,2} for LGSI 2, ic (1,2....4}for LGSI 4)\n",
    "    return np.random.randint(1, num_parts + 1)\n",
    "\n",
    "def random_six(tokens, best_token, part):\n",
    "    # Step 12: Execute part, using Random Six algorithm\n",
    "  \n",
    "    return np.random.rand()\n",
    "\n",
    "def update_token(tokens, token, part, X_train, Y_train, X_test, Y_test):\n",
    "    # Step 14: Apply corresponding algorithm of part, to update T intraloop-intraloop-1;\n",
    "    return tokens + np.random.rand(len(tokens))\n",
    "\n",
    "# Example usage\n",
    "total_tokens = 10\n",
    "num_iterations = 5\n",
    "num_parts = 2\n",
    "X_train, Y_train, X_test, Y_test = np.random.rand(4, 10)\n",
    "\n",
    "output_token = ludo_game_algorithm(total_tokens, num_iterations, num_parts, X_train, Y_train, X_test, Y_test)\n",
    "print(\"Output Token:\", output_token)\n"
   ]
  },
  {
   "cell_type": "code",
   "execution_count": null,
   "id": "c153f6f9",
   "metadata": {},
   "outputs": [],
   "source": []
  }
 ],
 "metadata": {
  "kernelspec": {
   "display_name": "Python 3 (ipykernel)",
   "language": "python",
   "name": "python3"
  },
  "language_info": {
   "codemirror_mode": {
    "name": "ipython",
    "version": 3
   },
   "file_extension": ".py",
   "mimetype": "text/x-python",
   "name": "python",
   "nbconvert_exporter": "python",
   "pygments_lexer": "ipython3",
   "version": "3.10.7"
  }
 },
 "nbformat": 4,
 "nbformat_minor": 5
}
